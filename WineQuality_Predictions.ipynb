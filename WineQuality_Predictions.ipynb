{
 "cells": [
  {
   "cell_type": "code",
   "execution_count": 1,
   "id": "4f76f153",
   "metadata": {},
   "outputs": [],
   "source": [
    "import pandas as pd\n",
    "import numpy as np\n",
    "import matplotlib.pyplot as plt"
   ]
  },
  {
   "cell_type": "code",
   "execution_count": 2,
   "id": "ce72b0e5",
   "metadata": {},
   "outputs": [
    {
     "data": {
      "text/html": [
       "<div>\n",
       "<style scoped>\n",
       "    .dataframe tbody tr th:only-of-type {\n",
       "        vertical-align: middle;\n",
       "    }\n",
       "\n",
       "    .dataframe tbody tr th {\n",
       "        vertical-align: top;\n",
       "    }\n",
       "\n",
       "    .dataframe thead th {\n",
       "        text-align: right;\n",
       "    }\n",
       "</style>\n",
       "<table border=\"1\" class=\"dataframe\">\n",
       "  <thead>\n",
       "    <tr style=\"text-align: right;\">\n",
       "      <th></th>\n",
       "      <th>fixed acidity</th>\n",
       "      <th>volatile acidity</th>\n",
       "      <th>citric acid</th>\n",
       "      <th>residual sugar</th>\n",
       "      <th>chlorides</th>\n",
       "      <th>free sulfur dioxide</th>\n",
       "      <th>total sulfur dioxide</th>\n",
       "      <th>density</th>\n",
       "      <th>pH</th>\n",
       "      <th>sulphates</th>\n",
       "      <th>alcohol</th>\n",
       "      <th>quality</th>\n",
       "    </tr>\n",
       "  </thead>\n",
       "  <tbody>\n",
       "    <tr>\n",
       "      <th>0</th>\n",
       "      <td>7.4</td>\n",
       "      <td>0.70</td>\n",
       "      <td>0.00</td>\n",
       "      <td>1.9</td>\n",
       "      <td>0.076</td>\n",
       "      <td>11.0</td>\n",
       "      <td>34.0</td>\n",
       "      <td>0.9978</td>\n",
       "      <td>3.51</td>\n",
       "      <td>0.56</td>\n",
       "      <td>9.4</td>\n",
       "      <td>5</td>\n",
       "    </tr>\n",
       "    <tr>\n",
       "      <th>1</th>\n",
       "      <td>7.8</td>\n",
       "      <td>0.88</td>\n",
       "      <td>0.00</td>\n",
       "      <td>2.6</td>\n",
       "      <td>0.098</td>\n",
       "      <td>25.0</td>\n",
       "      <td>67.0</td>\n",
       "      <td>0.9968</td>\n",
       "      <td>3.20</td>\n",
       "      <td>0.68</td>\n",
       "      <td>9.8</td>\n",
       "      <td>5</td>\n",
       "    </tr>\n",
       "    <tr>\n",
       "      <th>2</th>\n",
       "      <td>7.8</td>\n",
       "      <td>0.76</td>\n",
       "      <td>0.04</td>\n",
       "      <td>2.3</td>\n",
       "      <td>0.092</td>\n",
       "      <td>15.0</td>\n",
       "      <td>54.0</td>\n",
       "      <td>0.9970</td>\n",
       "      <td>3.26</td>\n",
       "      <td>0.65</td>\n",
       "      <td>9.8</td>\n",
       "      <td>5</td>\n",
       "    </tr>\n",
       "    <tr>\n",
       "      <th>3</th>\n",
       "      <td>11.2</td>\n",
       "      <td>0.28</td>\n",
       "      <td>0.56</td>\n",
       "      <td>1.9</td>\n",
       "      <td>0.075</td>\n",
       "      <td>17.0</td>\n",
       "      <td>60.0</td>\n",
       "      <td>0.9980</td>\n",
       "      <td>3.16</td>\n",
       "      <td>0.58</td>\n",
       "      <td>9.8</td>\n",
       "      <td>6</td>\n",
       "    </tr>\n",
       "    <tr>\n",
       "      <th>4</th>\n",
       "      <td>7.4</td>\n",
       "      <td>0.70</td>\n",
       "      <td>0.00</td>\n",
       "      <td>1.9</td>\n",
       "      <td>0.076</td>\n",
       "      <td>11.0</td>\n",
       "      <td>34.0</td>\n",
       "      <td>0.9978</td>\n",
       "      <td>3.51</td>\n",
       "      <td>0.56</td>\n",
       "      <td>9.4</td>\n",
       "      <td>5</td>\n",
       "    </tr>\n",
       "  </tbody>\n",
       "</table>\n",
       "</div>"
      ],
      "text/plain": [
       "   fixed acidity  volatile acidity  citric acid  residual sugar  chlorides  \\\n",
       "0            7.4              0.70         0.00             1.9      0.076   \n",
       "1            7.8              0.88         0.00             2.6      0.098   \n",
       "2            7.8              0.76         0.04             2.3      0.092   \n",
       "3           11.2              0.28         0.56             1.9      0.075   \n",
       "4            7.4              0.70         0.00             1.9      0.076   \n",
       "\n",
       "   free sulfur dioxide  total sulfur dioxide  density    pH  sulphates  \\\n",
       "0                 11.0                  34.0   0.9978  3.51       0.56   \n",
       "1                 25.0                  67.0   0.9968  3.20       0.68   \n",
       "2                 15.0                  54.0   0.9970  3.26       0.65   \n",
       "3                 17.0                  60.0   0.9980  3.16       0.58   \n",
       "4                 11.0                  34.0   0.9978  3.51       0.56   \n",
       "\n",
       "   alcohol  quality  \n",
       "0      9.4        5  \n",
       "1      9.8        5  \n",
       "2      9.8        5  \n",
       "3      9.8        6  \n",
       "4      9.4        5  "
      ]
     },
     "execution_count": 2,
     "metadata": {},
     "output_type": "execute_result"
    }
   ],
   "source": [
    "df = pd.read_csv('winequality-red.csv')\n",
    "df.head()"
   ]
  },
  {
   "cell_type": "code",
   "execution_count": 3,
   "id": "d73107c2",
   "metadata": {},
   "outputs": [
    {
     "data": {
      "text/plain": [
       "(1599, 12)"
      ]
     },
     "execution_count": 3,
     "metadata": {},
     "output_type": "execute_result"
    }
   ],
   "source": [
    "df.shape"
   ]
  },
  {
   "cell_type": "code",
   "execution_count": 4,
   "id": "b13f5645",
   "metadata": {},
   "outputs": [
    {
     "data": {
      "text/plain": [
       "fixed acidity           0\n",
       "volatile acidity        0\n",
       "citric acid             0\n",
       "residual sugar          0\n",
       "chlorides               0\n",
       "free sulfur dioxide     0\n",
       "total sulfur dioxide    0\n",
       "density                 0\n",
       "pH                      0\n",
       "sulphates               0\n",
       "alcohol                 0\n",
       "quality                 0\n",
       "dtype: int64"
      ]
     },
     "execution_count": 4,
     "metadata": {},
     "output_type": "execute_result"
    }
   ],
   "source": [
    "df.isnull().sum()"
   ]
  },
  {
   "cell_type": "code",
   "execution_count": 11,
   "id": "7bfadaa3",
   "metadata": {},
   "outputs": [
    {
     "data": {
      "text/plain": [
       "240"
      ]
     },
     "execution_count": 11,
     "metadata": {},
     "output_type": "execute_result"
    }
   ],
   "source": [
    "df.duplicated().sum()"
   ]
  },
  {
   "cell_type": "code",
   "execution_count": 12,
   "id": "35b86f3b",
   "metadata": {},
   "outputs": [
    {
     "data": {
      "text/plain": [
       "5    681\n",
       "6    638\n",
       "7    199\n",
       "4     53\n",
       "8     18\n",
       "3     10\n",
       "Name: quality, dtype: int64"
      ]
     },
     "execution_count": 12,
     "metadata": {},
     "output_type": "execute_result"
    }
   ],
   "source": [
    "df['quality'].value_counts()"
   ]
  },
  {
   "cell_type": "code",
   "execution_count": 13,
   "id": "039b05eb",
   "metadata": {},
   "outputs": [
    {
     "data": {
      "text/plain": [
       "fixed acidity           float64\n",
       "volatile acidity        float64\n",
       "citric acid             float64\n",
       "residual sugar          float64\n",
       "chlorides               float64\n",
       "free sulfur dioxide     float64\n",
       "total sulfur dioxide    float64\n",
       "density                 float64\n",
       "pH                      float64\n",
       "sulphates               float64\n",
       "alcohol                 float64\n",
       "quality                   int64\n",
       "dtype: object"
      ]
     },
     "execution_count": 13,
     "metadata": {},
     "output_type": "execute_result"
    }
   ],
   "source": [
    "df.dtypes"
   ]
  },
  {
   "cell_type": "code",
   "execution_count": 14,
   "id": "e8a02367",
   "metadata": {},
   "outputs": [
    {
     "name": "stdout",
     "output_type": "stream",
     "text": [
      "<class 'pandas.core.frame.DataFrame'>\n",
      "<class 'pandas.core.series.Series'>\n"
     ]
    }
   ],
   "source": [
    "x = df.iloc[:,:-1]  # independent features\n",
    "y = df.iloc[:,-1]   # dependent feature\n",
    "print(type(x))\n",
    "print(type(y))"
   ]
  },
  {
   "cell_type": "code",
   "execution_count": 15,
   "id": "f9a193ae",
   "metadata": {},
   "outputs": [
    {
     "name": "stdout",
     "output_type": "stream",
     "text": [
      "(1599, 11)\n",
      "(1599,)\n"
     ]
    }
   ],
   "source": [
    "print(x.shape)\n",
    "print(y.shape)"
   ]
  },
  {
   "cell_type": "code",
   "execution_count": 16,
   "id": "83fd21c8",
   "metadata": {},
   "outputs": [
    {
     "data": {
      "text/html": [
       "<div>\n",
       "<style scoped>\n",
       "    .dataframe tbody tr th:only-of-type {\n",
       "        vertical-align: middle;\n",
       "    }\n",
       "\n",
       "    .dataframe tbody tr th {\n",
       "        vertical-align: top;\n",
       "    }\n",
       "\n",
       "    .dataframe thead th {\n",
       "        text-align: right;\n",
       "    }\n",
       "</style>\n",
       "<table border=\"1\" class=\"dataframe\">\n",
       "  <thead>\n",
       "    <tr style=\"text-align: right;\">\n",
       "      <th></th>\n",
       "      <th>fixed acidity</th>\n",
       "      <th>volatile acidity</th>\n",
       "      <th>citric acid</th>\n",
       "      <th>residual sugar</th>\n",
       "      <th>chlorides</th>\n",
       "      <th>free sulfur dioxide</th>\n",
       "      <th>total sulfur dioxide</th>\n",
       "      <th>density</th>\n",
       "      <th>pH</th>\n",
       "      <th>sulphates</th>\n",
       "      <th>alcohol</th>\n",
       "    </tr>\n",
       "  </thead>\n",
       "  <tbody>\n",
       "    <tr>\n",
       "      <th>0</th>\n",
       "      <td>7.4</td>\n",
       "      <td>0.70</td>\n",
       "      <td>0.00</td>\n",
       "      <td>1.9</td>\n",
       "      <td>0.076</td>\n",
       "      <td>11.0</td>\n",
       "      <td>34.0</td>\n",
       "      <td>0.9978</td>\n",
       "      <td>3.51</td>\n",
       "      <td>0.56</td>\n",
       "      <td>9.4</td>\n",
       "    </tr>\n",
       "    <tr>\n",
       "      <th>1</th>\n",
       "      <td>7.8</td>\n",
       "      <td>0.88</td>\n",
       "      <td>0.00</td>\n",
       "      <td>2.6</td>\n",
       "      <td>0.098</td>\n",
       "      <td>25.0</td>\n",
       "      <td>67.0</td>\n",
       "      <td>0.9968</td>\n",
       "      <td>3.20</td>\n",
       "      <td>0.68</td>\n",
       "      <td>9.8</td>\n",
       "    </tr>\n",
       "    <tr>\n",
       "      <th>2</th>\n",
       "      <td>7.8</td>\n",
       "      <td>0.76</td>\n",
       "      <td>0.04</td>\n",
       "      <td>2.3</td>\n",
       "      <td>0.092</td>\n",
       "      <td>15.0</td>\n",
       "      <td>54.0</td>\n",
       "      <td>0.9970</td>\n",
       "      <td>3.26</td>\n",
       "      <td>0.65</td>\n",
       "      <td>9.8</td>\n",
       "    </tr>\n",
       "    <tr>\n",
       "      <th>3</th>\n",
       "      <td>11.2</td>\n",
       "      <td>0.28</td>\n",
       "      <td>0.56</td>\n",
       "      <td>1.9</td>\n",
       "      <td>0.075</td>\n",
       "      <td>17.0</td>\n",
       "      <td>60.0</td>\n",
       "      <td>0.9980</td>\n",
       "      <td>3.16</td>\n",
       "      <td>0.58</td>\n",
       "      <td>9.8</td>\n",
       "    </tr>\n",
       "    <tr>\n",
       "      <th>4</th>\n",
       "      <td>7.4</td>\n",
       "      <td>0.70</td>\n",
       "      <td>0.00</td>\n",
       "      <td>1.9</td>\n",
       "      <td>0.076</td>\n",
       "      <td>11.0</td>\n",
       "      <td>34.0</td>\n",
       "      <td>0.9978</td>\n",
       "      <td>3.51</td>\n",
       "      <td>0.56</td>\n",
       "      <td>9.4</td>\n",
       "    </tr>\n",
       "  </tbody>\n",
       "</table>\n",
       "</div>"
      ],
      "text/plain": [
       "   fixed acidity  volatile acidity  citric acid  residual sugar  chlorides  \\\n",
       "0            7.4              0.70         0.00             1.9      0.076   \n",
       "1            7.8              0.88         0.00             2.6      0.098   \n",
       "2            7.8              0.76         0.04             2.3      0.092   \n",
       "3           11.2              0.28         0.56             1.9      0.075   \n",
       "4            7.4              0.70         0.00             1.9      0.076   \n",
       "\n",
       "   free sulfur dioxide  total sulfur dioxide  density    pH  sulphates  \\\n",
       "0                 11.0                  34.0   0.9978  3.51       0.56   \n",
       "1                 25.0                  67.0   0.9968  3.20       0.68   \n",
       "2                 15.0                  54.0   0.9970  3.26       0.65   \n",
       "3                 17.0                  60.0   0.9980  3.16       0.58   \n",
       "4                 11.0                  34.0   0.9978  3.51       0.56   \n",
       "\n",
       "   alcohol  \n",
       "0      9.4  \n",
       "1      9.8  \n",
       "2      9.8  \n",
       "3      9.8  \n",
       "4      9.4  "
      ]
     },
     "execution_count": 16,
     "metadata": {},
     "output_type": "execute_result"
    }
   ],
   "source": [
    "x.head()"
   ]
  },
  {
   "cell_type": "code",
   "execution_count": 17,
   "id": "8b6130f7",
   "metadata": {},
   "outputs": [
    {
     "data": {
      "text/plain": [
       "0    5\n",
       "1    5\n",
       "2    5\n",
       "3    6\n",
       "4    5\n",
       "Name: quality, dtype: int64"
      ]
     },
     "execution_count": 17,
     "metadata": {},
     "output_type": "execute_result"
    }
   ],
   "source": [
    "y.head()"
   ]
  },
  {
   "cell_type": "code",
   "execution_count": 18,
   "id": "437d3324",
   "metadata": {},
   "outputs": [],
   "source": [
    "from sklearn.model_selection import train_test_split"
   ]
  },
  {
   "cell_type": "code",
   "execution_count": 19,
   "id": "f459ffb6",
   "metadata": {},
   "outputs": [
    {
     "name": "stdout",
     "output_type": "stream",
     "text": [
      "(1119, 11)\n",
      "(480, 11)\n",
      "(1119,)\n",
      "(480,)\n"
     ]
    }
   ],
   "source": [
    "x_train,x_test,y_train,y_test = train_test_split(x,y,test_size=0.30)\n",
    "print(x_train.shape)\n",
    "print(x_test.shape)\n",
    "print(y_train.shape)\n",
    "print(y_test.shape)"
   ]
  },
  {
   "cell_type": "markdown",
   "id": "65e51565",
   "metadata": {},
   "source": [
    "#### Applying Decision Tree Classifier"
   ]
  },
  {
   "cell_type": "code",
   "execution_count": 20,
   "id": "b2f12cac",
   "metadata": {},
   "outputs": [],
   "source": [
    "from sklearn.tree import DecisionTreeClassifier"
   ]
  },
  {
   "cell_type": "code",
   "execution_count": 28,
   "id": "260b80ac",
   "metadata": {},
   "outputs": [
    {
     "data": {
      "text/plain": [
       "DecisionTreeClassifier(max_depth=9)"
      ]
     },
     "execution_count": 28,
     "metadata": {},
     "output_type": "execute_result"
    }
   ],
   "source": [
    "m1 = DecisionTreeClassifier(criterion='gini',max_depth=9)\n",
    "m1.fit(x_train,y_train)"
   ]
  },
  {
   "cell_type": "code",
   "execution_count": 29,
   "id": "e31c5100",
   "metadata": {},
   "outputs": [
    {
     "name": "stdout",
     "output_type": "stream",
     "text": [
      "Training Score 0.8766756032171582\n",
      "Testing Score 0.5583333333333333\n"
     ]
    }
   ],
   "source": [
    "# Accuracy\n",
    "print('Training Score',m1.score(x_train,y_train))\n",
    "print('Testing Score',m1.score(x_test,y_test))"
   ]
  },
  {
   "cell_type": "code",
   "execution_count": 30,
   "id": "560c1d45",
   "metadata": {},
   "outputs": [
    {
     "name": "stdout",
     "output_type": "stream",
     "text": [
      "[5 6 5 5 5 6 4 5 5 6 6 6 6 5 7 5 6 5 5 5 6 7 5 5 6 6 6 5 6 6 5 5 6 6 6 5 5\n",
      " 5 6 6 5 5 7 6 6 6 6 5 5 5 3 6 6 6 7 5 5 5 7 5 5 5 5 5 6 5 5 6 7 4 7 5 5 6\n",
      " 7 6 5 6 7 5 5 6 6 7 6 6 5 5 6 5 5 6 5 4 5 5 6 6 6 5 6 5 6 5 6 6 5 5 6 6 5\n",
      " 5 6 5 5 6 6 6 5 6 5 7 6 5 5 6 6 5 6 7 7 5 6 5 5 5 7 6 6 5 5 6 6 6 5 7 5 5\n",
      " 5 5 6 5 5 5 6 7 6 6 5 7 6 6 6 6 5 7 6 6 6 5 7 6 5 7 6 6 6 6 5 7 5 5 6 5 6\n",
      " 6 4 5 5 6 7 5 5 5 5 6 6 5 6 5 6 6 6 5 6 5 6 6 5 4 6 7 5 7 5 5 6 5 6 5 6 5\n",
      " 6 3 5 5 5 5 5 6 6 5 5 5 5 5 6 5 5 7 6 6 6 6 7 5 7 5 4 5 6 6 5 5 5 6 6 7 6\n",
      " 7 6 5 5 5 6 6 6 5 6 5 6 6 7 5 5 5 6 6 5 6 5 6 6 6 5 6 5 5 5 6 5 5 5 5 7 6\n",
      " 5 6 6 6 7 6 6 5 5 7 6 6 6 6 5 7 6 6 5 6 6 5 5 6 6 6 5 6 5 6 4 5 5 5 5 5 5\n",
      " 5 5 6 5 5 6 7 5 6 6 5 6 4 5 6 6 5 5 6 6 5 5 4 5 6 5 5 5 5 6 5 5 5 4 6 5 5\n",
      " 7 5 5 5 6 6 6 6 5 6 5 5 5 5 7 5 5 5 5 5 6 6 5 5 6 6 5 5 7 5 6 5 8 5 7 5 5\n",
      " 7 5 5 6 5 7 6 6 6 5 5 6 5 6 6 6 5 5 5 6 5 5 6 5 5 6 6 5 6 6 5 5 7 5 7 5 6\n",
      " 5 5 6 6 7 5 6 5 6 7 5 6 7 6 5 5 7 5 6 5 5 5 5 5 6 5 6 5 6 7 5 6 6 6 6 5]\n"
     ]
    }
   ],
   "source": [
    "ypred_m1 = m1.predict(x_test)\n",
    "print(ypred_m1)"
   ]
  },
  {
   "cell_type": "code",
   "execution_count": 31,
   "id": "563c4e22",
   "metadata": {},
   "outputs": [],
   "source": [
    "from sklearn.metrics import confusion_matrix,classification_report"
   ]
  },
  {
   "cell_type": "code",
   "execution_count": 32,
   "id": "91360866",
   "metadata": {},
   "outputs": [
    {
     "name": "stdout",
     "output_type": "stream",
     "text": [
      "[[  0   0   1   1   0   0]\n",
      " [  0   3   8   4   0   0]\n",
      " [  2   5 135  49   3   0]\n",
      " [  0   2  70 103  16   1]\n",
      " [  0   0  12  32  27   0]\n",
      " [  0   0   2   2   2   0]]\n",
      "              precision    recall  f1-score   support\n",
      "\n",
      "           3       0.00      0.00      0.00         2\n",
      "           4       0.30      0.20      0.24        15\n",
      "           5       0.59      0.70      0.64       194\n",
      "           6       0.54      0.54      0.54       192\n",
      "           7       0.56      0.38      0.45        71\n",
      "           8       0.00      0.00      0.00         6\n",
      "\n",
      "    accuracy                           0.56       480\n",
      "   macro avg       0.33      0.30      0.31       480\n",
      "weighted avg       0.55      0.56      0.55       480\n",
      "\n"
     ]
    }
   ],
   "source": [
    "cm_m1 = confusion_matrix(y_test,ypred_m1)\n",
    "print(cm_m1)\n",
    "print(classification_report(y_test,ypred_m1))"
   ]
  },
  {
   "cell_type": "markdown",
   "id": "71f9a275",
   "metadata": {},
   "source": [
    "#### Applying Random Forest Classifier"
   ]
  },
  {
   "cell_type": "code",
   "execution_count": 33,
   "id": "cf02e8c2",
   "metadata": {},
   "outputs": [],
   "source": [
    "from sklearn.ensemble import RandomForestClassifier"
   ]
  },
  {
   "cell_type": "code",
   "execution_count": 34,
   "id": "37a66ea4",
   "metadata": {},
   "outputs": [
    {
     "data": {
      "text/plain": [
       "RandomForestClassifier(criterion='entropy', max_depth=8, min_samples_split=12,\n",
       "                       n_estimators=45)"
      ]
     },
     "execution_count": 34,
     "metadata": {},
     "output_type": "execute_result"
    }
   ],
   "source": [
    "m2 = RandomForestClassifier(n_estimators=45, criterion='entropy',max_depth=8,min_samples_split=12) \n",
    "m2.fit(x_train,y_train)"
   ]
  },
  {
   "cell_type": "code",
   "execution_count": 35,
   "id": "d1023e1f",
   "metadata": {},
   "outputs": [
    {
     "name": "stdout",
     "output_type": "stream",
     "text": [
      "Training Score 0.8185880250223414\n",
      "Testing Score 0.6\n"
     ]
    }
   ],
   "source": [
    "# Accuracy\n",
    "print('Training Score',m2.score(x_train,y_train))\n",
    "print('Testing Score',m2.score(x_test,y_test))"
   ]
  },
  {
   "cell_type": "code",
   "execution_count": 36,
   "id": "60c0e845",
   "metadata": {},
   "outputs": [
    {
     "name": "stdout",
     "output_type": "stream",
     "text": [
      "[5 6 5 5 5 6 5 5 5 6 7 6 6 5 6 5 6 5 5 5 6 6 6 5 6 5 5 5 6 5 6 6 6 6 5 5 5\n",
      " 5 6 5 5 5 7 6 5 6 6 6 6 5 5 6 6 6 6 5 5 5 6 6 5 5 5 5 5 6 5 6 7 5 6 5 5 6\n",
      " 7 6 5 6 6 5 6 6 6 6 6 5 5 6 6 5 5 5 5 5 5 5 5 6 6 5 5 5 6 5 6 6 5 5 6 6 5\n",
      " 5 5 5 5 6 6 6 5 6 5 7 6 5 6 6 6 6 6 6 6 5 5 5 5 5 6 5 6 5 6 6 6 6 5 7 5 5\n",
      " 5 5 5 5 5 5 5 7 6 6 5 7 6 5 6 5 5 6 6 5 7 5 6 5 5 7 6 6 6 6 5 6 5 6 6 5 6\n",
      " 6 6 5 6 6 7 5 5 5 6 6 5 5 6 6 6 5 6 5 6 6 5 6 5 5 7 6 5 6 5 5 6 5 6 5 6 5\n",
      " 6 5 5 6 5 5 5 5 6 5 5 6 5 5 6 5 5 7 6 7 6 6 6 5 7 5 5 5 6 5 6 5 5 6 6 6 6\n",
      " 6 6 6 5 5 6 6 6 5 6 5 6 5 7 5 6 5 7 6 5 6 5 6 6 6 5 6 5 5 6 6 6 5 6 5 6 6\n",
      " 5 6 6 6 6 6 5 5 5 7 6 6 5 6 5 6 5 6 7 6 6 5 5 6 6 5 5 6 7 6 5 5 6 5 5 5 5\n",
      " 6 5 6 5 5 6 6 5 6 6 5 6 5 5 6 6 6 5 6 5 5 5 5 5 6 5 5 5 5 6 5 5 5 5 5 5 5\n",
      " 6 5 5 5 6 5 6 6 5 6 5 5 5 5 7 5 5 5 5 5 6 6 5 5 6 5 5 5 6 5 6 5 6 6 6 5 6\n",
      " 6 6 5 6 6 7 7 6 6 5 5 6 5 6 6 5 5 5 5 6 5 5 5 5 5 7 6 5 6 7 5 5 6 5 6 5 5\n",
      " 5 5 5 6 6 5 6 6 6 6 5 6 7 6 5 5 6 5 5 5 5 5 5 6 6 5 6 7 6 7 5 6 6 5 7 5]\n"
     ]
    }
   ],
   "source": [
    "ypred_m2 = m2.predict(x_test)\n",
    "print(ypred_m2)"
   ]
  },
  {
   "cell_type": "code",
   "execution_count": 38,
   "id": "484515d8",
   "metadata": {},
   "outputs": [
    {
     "name": "stdout",
     "output_type": "stream",
     "text": [
      "[[  0   0   1   1   0   0]\n",
      " [  0   0  12   3   0   0]\n",
      " [  0   0 151  42   1   0]\n",
      " [  0   0  72 116   4   0]\n",
      " [  0   0   6  44  21   0]\n",
      " [  0   0   0   3   3   0]]\n",
      "              precision    recall  f1-score   support\n",
      "\n",
      "           3       0.00      0.00      0.00         2\n",
      "           4       0.00      0.00      0.00        15\n",
      "           5       0.62      0.78      0.69       194\n",
      "           6       0.56      0.60      0.58       192\n",
      "           7       0.72      0.30      0.42        71\n",
      "           8       0.00      0.00      0.00         6\n",
      "\n",
      "    accuracy                           0.60       480\n",
      "   macro avg       0.32      0.28      0.28       480\n",
      "weighted avg       0.58      0.60      0.57       480\n",
      "\n"
     ]
    }
   ],
   "source": [
    "cm_m2 = confusion_matrix(y_test,ypred_m2)\n",
    "print(cm_m2)\n",
    "print(classification_report(y_test,ypred_m2,zero_division=0))"
   ]
  },
  {
   "cell_type": "markdown",
   "id": "7b7f966c",
   "metadata": {},
   "source": [
    "#### Applying KNN Classifier"
   ]
  },
  {
   "cell_type": "code",
   "execution_count": 39,
   "id": "0b07aa07",
   "metadata": {},
   "outputs": [],
   "source": [
    "from sklearn.neighbors import KNeighborsClassifier"
   ]
  },
  {
   "cell_type": "code",
   "execution_count": 58,
   "id": "beb98da4",
   "metadata": {},
   "outputs": [
    {
     "data": {
      "text/plain": [
       "KNeighborsClassifier(n_neighbors=91)"
      ]
     },
     "execution_count": 58,
     "metadata": {},
     "output_type": "execute_result"
    }
   ],
   "source": [
    "m3 = KNeighborsClassifier(n_neighbors=91)\n",
    "m3.fit(x_train,y_train)"
   ]
  },
  {
   "cell_type": "code",
   "execution_count": 59,
   "id": "37afb7d2",
   "metadata": {},
   "outputs": [
    {
     "name": "stdout",
     "output_type": "stream",
     "text": [
      "Training Score 0.5460232350312779\n",
      "Testing Score 0.5\n"
     ]
    }
   ],
   "source": [
    "# Accuracy\n",
    "print('Training Score',m3.score(x_train,y_train))\n",
    "print('Testing Score',m3.score(x_test,y_test))"
   ]
  },
  {
   "cell_type": "code",
   "execution_count": 60,
   "id": "4d46ce28",
   "metadata": {},
   "outputs": [
    {
     "name": "stdout",
     "output_type": "stream",
     "text": [
      "[6 6 5 5 5 5 5 5 5 6 6 6 6 5 6 5 6 5 5 5 6 6 5 5 6 6 6 5 6 5 6 6 5 5 6 5 5\n",
      " 5 6 5 5 5 6 6 6 6 6 5 6 5 5 6 5 6 6 5 6 6 6 6 5 6 5 5 6 5 5 6 6 6 6 5 5 6\n",
      " 6 6 5 6 5 6 6 5 6 6 6 5 5 5 6 6 5 5 6 5 5 5 5 6 6 6 5 6 6 6 6 6 5 5 6 6 5\n",
      " 5 5 5 5 6 6 6 5 5 5 5 5 6 6 6 6 5 6 6 5 5 5 6 5 6 6 6 5 5 6 6 6 6 5 5 5 6\n",
      " 5 5 5 6 5 5 6 5 5 6 5 6 6 5 6 5 5 6 5 6 6 6 6 6 5 6 6 6 6 6 6 6 6 6 5 6 6\n",
      " 6 6 5 5 6 6 6 5 6 6 6 5 5 6 6 6 6 5 5 6 6 6 5 6 6 6 6 6 6 5 5 6 5 6 5 5 6\n",
      " 6 5 6 6 5 5 5 5 6 6 5 6 5 5 5 6 5 6 5 6 6 6 6 5 6 5 5 5 5 6 6 5 5 5 6 6 6\n",
      " 5 6 6 6 6 6 6 6 5 5 6 6 6 6 6 5 5 6 5 5 5 5 6 6 6 5 5 6 6 6 5 5 5 5 6 6 5\n",
      " 5 5 6 6 6 6 6 5 5 6 6 5 5 5 5 5 6 6 6 5 6 6 6 6 6 6 5 5 6 6 5 5 6 6 5 6 6\n",
      " 6 5 6 5 5 6 6 5 6 6 5 6 5 5 6 6 6 6 5 5 5 5 5 6 6 5 6 5 6 5 5 6 5 5 5 6 5\n",
      " 6 6 5 6 6 6 6 5 5 6 6 5 6 5 6 6 6 5 6 6 6 5 5 6 6 5 5 5 6 5 6 5 6 6 6 5 6\n",
      " 6 6 6 6 6 6 5 5 6 5 5 6 5 6 6 5 6 5 5 5 5 5 5 5 5 5 6 5 6 6 5 6 6 5 5 5 6\n",
      " 5 6 5 6 6 5 5 6 6 6 5 6 6 6 5 6 6 5 6 5 5 5 5 5 5 5 6 6 6 6 5 6 6 5 5 6]\n"
     ]
    }
   ],
   "source": [
    "ypred_m3 = m3.predict(x_test)\n",
    "print(ypred_m3)"
   ]
  },
  {
   "cell_type": "code",
   "execution_count": 61,
   "id": "3bc1ce85",
   "metadata": {},
   "outputs": [
    {
     "name": "stdout",
     "output_type": "stream",
     "text": [
      "[[  0   0   0   2   0   0]\n",
      " [  0   0  12   3   0   0]\n",
      " [  0   0 119  75   0   0]\n",
      " [  0   0  71 121   0   0]\n",
      " [  0   0  17  54   0   0]\n",
      " [  0   0   0   6   0   0]]\n",
      "              precision    recall  f1-score   support\n",
      "\n",
      "           3       0.00      0.00      0.00         2\n",
      "           4       0.00      0.00      0.00        15\n",
      "           5       0.54      0.61      0.58       194\n",
      "           6       0.46      0.63      0.53       192\n",
      "           7       0.00      0.00      0.00        71\n",
      "           8       0.00      0.00      0.00         6\n",
      "\n",
      "    accuracy                           0.50       480\n",
      "   macro avg       0.17      0.21      0.19       480\n",
      "weighted avg       0.41      0.50      0.45       480\n",
      "\n"
     ]
    }
   ],
   "source": [
    "cm_m3 = confusion_matrix(y_test,ypred_m3)\n",
    "print(cm_m3)\n",
    "print(classification_report(y_test,ypred_m3,zero_division=0))"
   ]
  },
  {
   "cell_type": "markdown",
   "id": "e31c7835",
   "metadata": {},
   "source": [
    "#### Applying SVM Classifier"
   ]
  },
  {
   "cell_type": "code",
   "execution_count": 62,
   "id": "f479f9ab",
   "metadata": {},
   "outputs": [],
   "source": [
    "from sklearn.svm import SVC"
   ]
  },
  {
   "cell_type": "code",
   "execution_count": 67,
   "id": "497f5117",
   "metadata": {},
   "outputs": [
    {
     "data": {
      "text/plain": [
       "SVC(C=1, kernel='linear')"
      ]
     },
     "execution_count": 67,
     "metadata": {},
     "output_type": "execute_result"
    }
   ],
   "source": [
    "m5 = SVC(kernel='linear',C=1)\n",
    "m5.fit(x_train,y_train)"
   ]
  },
  {
   "cell_type": "code",
   "execution_count": 68,
   "id": "a0a8bff0",
   "metadata": {},
   "outputs": [
    {
     "name": "stdout",
     "output_type": "stream",
     "text": [
      "Training Score 0.6014298480786416\n",
      "Testing Score 0.55\n"
     ]
    }
   ],
   "source": [
    "# Accuracy\n",
    "print('Training Score',m5.score(x_train,y_train))\n",
    "print('Testing Score',m5.score(x_test,y_test))"
   ]
  },
  {
   "cell_type": "code",
   "execution_count": 69,
   "id": "c445ea36",
   "metadata": {},
   "outputs": [
    {
     "name": "stdout",
     "output_type": "stream",
     "text": [
      "[5 6 5 5 5 6 5 5 5 5 6 6 6 5 6 5 6 5 5 5 6 6 6 5 6 5 5 5 6 5 6 6 6 5 6 5 5\n",
      " 5 6 5 5 5 6 6 5 6 6 6 6 5 5 6 6 6 6 5 6 5 6 6 5 5 5 5 5 5 5 6 6 5 6 5 5 6\n",
      " 6 6 5 5 6 5 6 5 6 6 6 5 6 6 6 5 5 5 6 5 5 5 5 5 6 5 5 6 6 5 6 6 5 5 6 6 5\n",
      " 6 5 5 5 6 6 5 5 6 5 5 6 5 6 6 6 6 6 6 6 6 5 5 5 5 6 6 6 5 6 6 6 6 5 6 5 5\n",
      " 5 5 5 6 5 5 6 6 5 6 5 6 6 5 6 5 5 6 5 5 6 5 6 5 5 6 5 6 6 6 5 6 5 6 5 5 5\n",
      " 6 6 5 6 6 6 5 5 5 5 6 5 5 6 6 5 5 6 5 6 5 5 6 5 6 6 6 5 6 5 5 6 6 6 5 6 5\n",
      " 6 6 6 6 5 5 5 5 6 5 5 6 5 5 5 5 5 6 6 6 6 6 6 5 6 5 5 5 6 6 6 5 5 6 6 6 6\n",
      " 6 6 6 5 5 6 5 6 5 6 5 5 5 6 5 6 5 6 5 5 6 5 6 6 6 5 6 5 6 5 6 6 5 6 5 6 6\n",
      " 5 6 5 5 6 6 5 5 5 6 6 6 5 6 6 6 5 6 6 6 6 5 5 6 6 5 5 5 6 5 5 5 6 6 5 5 5\n",
      " 5 5 6 5 5 6 6 5 6 5 5 6 5 5 6 5 6 5 5 5 5 5 5 5 5 5 5 5 5 6 5 5 5 5 6 5 5\n",
      " 6 6 5 5 6 5 6 6 5 6 5 5 5 6 6 5 5 5 5 5 6 6 5 5 6 5 5 5 6 5 6 5 6 6 6 5 6\n",
      " 6 5 5 6 6 6 6 6 6 5 5 6 5 6 6 5 5 5 5 6 6 5 5 5 5 6 6 5 6 6 5 5 6 6 6 5 5\n",
      " 5 5 5 6 6 5 5 5 5 6 5 6 6 6 5 5 6 6 5 6 5 5 5 6 6 5 6 6 6 6 5 6 6 5 6 5]\n"
     ]
    }
   ],
   "source": [
    "ypred_m5 = m5.predict(x_test)\n",
    "print(ypred_m5)"
   ]
  },
  {
   "cell_type": "code",
   "execution_count": 70,
   "id": "4aff8e4b",
   "metadata": {},
   "outputs": [
    {
     "name": "stdout",
     "output_type": "stream",
     "text": [
      "[[  0   0   2   0   0   0]\n",
      " [  0   0  11   4   0   0]\n",
      " [  0   0 151  43   0   0]\n",
      " [  0   0  79 113   0   0]\n",
      " [  0   0   8  63   0   0]\n",
      " [  0   0   0   6   0   0]]\n",
      "              precision    recall  f1-score   support\n",
      "\n",
      "           3       0.00      0.00      0.00         2\n",
      "           4       0.00      0.00      0.00        15\n",
      "           5       0.60      0.78      0.68       194\n",
      "           6       0.49      0.59      0.54       192\n",
      "           7       0.00      0.00      0.00        71\n",
      "           8       0.00      0.00      0.00         6\n",
      "\n",
      "    accuracy                           0.55       480\n",
      "   macro avg       0.18      0.23      0.20       480\n",
      "weighted avg       0.44      0.55      0.49       480\n",
      "\n"
     ]
    }
   ],
   "source": [
    "cm_m5 = confusion_matrix(y_test,ypred_m5)\n",
    "print(cm_m5)\n",
    "print(classification_report(y_test,ypred_m5,zero_division=0))"
   ]
  },
  {
   "cell_type": "code",
   "execution_count": 88,
   "id": "29e3b3a8",
   "metadata": {},
   "outputs": [
    {
     "data": {
      "text/plain": [
       "SVC(C=10, gamma=10)"
      ]
     },
     "execution_count": 88,
     "metadata": {},
     "output_type": "execute_result"
    }
   ],
   "source": [
    "m6 = SVC(kernel='rbf',C=10,gamma=10)\n",
    "m6.fit(x_train,y_train)"
   ]
  },
  {
   "cell_type": "code",
   "execution_count": 89,
   "id": "a77945f0",
   "metadata": {},
   "outputs": [
    {
     "name": "stdout",
     "output_type": "stream",
     "text": [
      "Training Score 1.0\n",
      "Testing Score 0.5166666666666667\n",
      "[5 5 5 5 5 5 5 5 5 5 5 5 5 5 5 5 6 5 5 5 5 5 5 5 5 6 6 5 5 5 5 5 5 5 5 5 5\n",
      " 5 6 5 5 5 5 5 5 5 5 5 5 5 5 5 6 5 5 5 5 5 7 8 5 5 5 5 5 6 5 5 7 5 5 5 5 5\n",
      " 5 6 5 5 5 5 5 5 5 5 5 5 5 5 6 5 5 5 5 5 5 5 5 5 5 5 6 5 5 5 5 6 5 5 5 5 5\n",
      " 5 5 5 5 5 5 5 6 5 5 5 5 5 5 5 5 5 5 7 6 5 5 5 5 5 5 5 5 5 5 5 5 5 5 7 5 6\n",
      " 5 5 6 5 5 5 5 5 6 5 5 5 5 6 6 5 5 5 5 5 5 5 5 5 5 7 6 5 5 5 5 5 5 5 5 5 5\n",
      " 6 5 5 5 5 5 5 5 6 5 5 5 5 5 5 5 5 5 5 6 6 6 6 5 5 5 5 5 7 5 5 5 5 6 5 6 5\n",
      " 6 5 5 5 5 5 5 5 5 5 5 5 5 5 5 5 5 7 5 5 6 6 5 5 7 5 5 5 6 5 7 5 5 5 6 5 5\n",
      " 7 5 5 5 5 5 5 6 5 5 5 6 5 5 5 5 5 5 5 5 5 5 5 6 6 5 6 5 5 5 6 5 5 5 5 5 5\n",
      " 5 5 6 5 7 5 5 5 5 5 5 5 6 5 5 5 5 7 5 5 5 5 5 5 5 5 5 5 5 5 5 5 5 5 5 5 5\n",
      " 5 5 5 5 5 5 5 5 5 5 5 5 6 5 5 5 5 6 6 5 5 5 5 5 5 5 5 5 5 5 5 5 5 5 5 5 5\n",
      " 5 5 5 5 7 5 5 5 5 5 5 5 5 5 5 5 5 5 5 5 6 5 5 5 5 5 5 5 5 5 5 5 5 5 5 5 5\n",
      " 5 6 5 5 5 7 5 5 5 5 5 5 5 5 6 5 5 5 5 5 5 5 5 5 5 5 5 5 6 5 5 5 5 5 5 5 5\n",
      " 5 5 5 5 5 5 5 5 5 5 5 6 5 5 5 5 5 5 5 5 5 5 5 5 6 5 5 5 5 7 5 5 5 5 5 6]\n"
     ]
    }
   ],
   "source": [
    "print('Training Score',m6.score(x_train,y_train))\n",
    "print('Testing Score',m6.score(x_test,y_test))\n",
    "ypred_m6 = m6.predict(x_test)\n",
    "print(ypred_m6)"
   ]
  },
  {
   "cell_type": "code",
   "execution_count": 90,
   "id": "8489535f",
   "metadata": {},
   "outputs": [
    {
     "name": "stdout",
     "output_type": "stream",
     "text": [
      "[[  0   0   2   0   0   0]\n",
      " [  0   0  14   1   0   0]\n",
      " [  0   0 189   5   0   0]\n",
      " [  0   0 149  43   0   0]\n",
      " [  0   0  56   0  15   0]\n",
      " [  0   0   5   0   0   1]]\n",
      "              precision    recall  f1-score   support\n",
      "\n",
      "           3       0.00      0.00      0.00         2\n",
      "           4       0.00      0.00      0.00        15\n",
      "           5       0.46      0.97      0.62       194\n",
      "           6       0.88      0.22      0.36       192\n",
      "           7       1.00      0.21      0.35        71\n",
      "           8       1.00      0.17      0.29         6\n",
      "\n",
      "    accuracy                           0.52       480\n",
      "   macro avg       0.56      0.26      0.27       480\n",
      "weighted avg       0.70      0.52      0.45       480\n",
      "\n"
     ]
    }
   ],
   "source": [
    "cm_m6 = confusion_matrix(y_test,ypred_m6)\n",
    "print(cm_m6)\n",
    "print(classification_report(y_test,ypred_m6,zero_division=0))"
   ]
  },
  {
   "cell_type": "code",
   "execution_count": 94,
   "id": "05bee728",
   "metadata": {},
   "outputs": [
    {
     "data": {
      "text/plain": [
       "SVC(C=10, degree=4, kernel='poly')"
      ]
     },
     "execution_count": 94,
     "metadata": {},
     "output_type": "execute_result"
    }
   ],
   "source": [
    "m7 = SVC(kernel='poly',C=10,degree=4)\n",
    "m7.fit(x_train,y_train)"
   ]
  },
  {
   "cell_type": "code",
   "execution_count": 95,
   "id": "1e5cde91",
   "metadata": {},
   "outputs": [
    {
     "name": "stdout",
     "output_type": "stream",
     "text": [
      "Training Score 0.5245755138516532\n",
      "Testing Score 0.46458333333333335\n",
      "[6 6 5 6 5 6 6 6 6 6 6 6 6 5 6 6 6 5 5 5 6 6 6 6 6 6 6 5 6 5 6 6 6 6 6 5 5\n",
      " 6 6 6 5 6 6 6 6 6 6 6 6 6 6 6 6 6 6 6 6 6 6 6 6 6 6 5 6 5 5 6 6 6 6 5 5 6\n",
      " 6 6 5 6 6 6 6 6 6 6 6 5 6 6 6 6 6 6 6 6 6 5 6 6 6 6 5 6 6 6 6 6 5 6 6 6 6\n",
      " 5 6 5 6 6 6 6 5 6 5 6 6 6 6 6 6 6 6 6 6 6 6 6 5 6 6 6 6 5 6 6 6 6 5 6 6 6\n",
      " 6 5 5 6 5 6 6 6 6 6 6 6 6 5 6 5 5 6 5 6 6 6 6 6 6 6 6 6 6 6 6 6 6 6 5 6 6\n",
      " 6 6 6 6 6 6 6 5 6 6 6 5 5 6 6 6 6 6 5 6 6 6 6 6 6 6 6 6 6 6 6 6 5 6 6 6 6\n",
      " 6 6 6 6 5 5 6 6 6 6 6 6 5 5 5 6 5 6 6 6 6 6 6 6 6 5 5 5 6 6 6 5 5 6 6 6 6\n",
      " 6 6 6 6 6 6 6 6 6 6 6 6 6 6 6 6 6 6 6 6 6 5 6 6 6 6 6 6 6 6 6 6 6 6 6 6 6\n",
      " 5 6 6 6 6 6 6 5 6 6 6 6 6 6 6 6 6 6 6 6 6 6 6 6 6 6 5 6 6 6 6 5 6 6 6 6 6\n",
      " 6 5 6 6 6 6 6 5 6 6 6 6 6 5 6 6 6 6 6 6 6 6 6 6 6 6 6 6 6 6 5 6 5 6 5 6 5\n",
      " 6 5 6 6 6 6 6 6 6 6 6 6 6 6 6 6 6 6 6 6 6 6 5 6 6 5 6 6 6 5 6 5 6 6 6 6 6\n",
      " 6 6 6 6 6 6 6 6 6 5 5 6 6 6 6 5 6 5 5 6 6 5 6 5 6 6 6 6 6 6 5 6 6 6 6 5 6\n",
      " 5 6 6 6 6 6 6 6 6 6 5 6 6 6 5 6 6 6 6 6 6 5 6 6 6 5 6 6 6 6 6 6 6 6 6 6]\n"
     ]
    }
   ],
   "source": [
    "print('Training Score',m7.score(x_train,y_train))\n",
    "print('Testing Score',m7.score(x_test,y_test))\n",
    "ypred_m7 = m7.predict(x_test)\n",
    "print(ypred_m7)"
   ]
  },
  {
   "cell_type": "code",
   "execution_count": 84,
   "id": "b834c99d",
   "metadata": {},
   "outputs": [
    {
     "name": "stdout",
     "output_type": "stream",
     "text": [
      "[[  0   0   0   2   0   0]\n",
      " [  0   0   0  15   0   0]\n",
      " [  0   0  47 147   0   0]\n",
      " [  0   0  26 166   0   0]\n",
      " [  0   0   3  67   1   0]\n",
      " [  0   0   0   6   0   0]]\n",
      "              precision    recall  f1-score   support\n",
      "\n",
      "           3       0.00      0.00      0.00         2\n",
      "           4       0.00      0.00      0.00        15\n",
      "           5       0.62      0.24      0.35       194\n",
      "           6       0.41      0.86      0.56       192\n",
      "           7       1.00      0.01      0.03        71\n",
      "           8       0.00      0.00      0.00         6\n",
      "\n",
      "    accuracy                           0.45       480\n",
      "   macro avg       0.34      0.19      0.16       480\n",
      "weighted avg       0.56      0.45      0.37       480\n",
      "\n"
     ]
    }
   ],
   "source": [
    "cm_m7 = confusion_matrix(y_test,ypred_m7)\n",
    "print(cm_m7)\n",
    "print(classification_report(y_test,ypred_m7,zero_division=0))"
   ]
  },
  {
   "cell_type": "markdown",
   "id": "3a931cd1",
   "metadata": {},
   "source": [
    "#### Applying LogisticRegression Classifier"
   ]
  },
  {
   "cell_type": "code",
   "execution_count": 72,
   "id": "43e3514e",
   "metadata": {},
   "outputs": [],
   "source": [
    "from sklearn.linear_model import LogisticRegression"
   ]
  },
  {
   "cell_type": "code",
   "execution_count": 74,
   "id": "462322fe",
   "metadata": {},
   "outputs": [
    {
     "data": {
      "text/plain": [
       "LogisticRegression(solver='liblinear')"
      ]
     },
     "execution_count": 74,
     "metadata": {},
     "output_type": "execute_result"
    }
   ],
   "source": [
    "m4 = LogisticRegression(solver='liblinear')\n",
    "m4.fit(x_train,y_train)"
   ]
  },
  {
   "cell_type": "code",
   "execution_count": 75,
   "id": "b257b6b5",
   "metadata": {},
   "outputs": [
    {
     "name": "stdout",
     "output_type": "stream",
     "text": [
      "Training Score 0.5978552278820375\n",
      "Testing Score 0.5291666666666667\n"
     ]
    }
   ],
   "source": [
    "# Accuracy\n",
    "print('Training Score',m4.score(x_train,y_train))\n",
    "print('Testing Score',m4.score(x_test,y_test))"
   ]
  },
  {
   "cell_type": "code",
   "execution_count": 76,
   "id": "fa7d6bc3",
   "metadata": {},
   "outputs": [
    {
     "name": "stdout",
     "output_type": "stream",
     "text": [
      "[5 6 5 5 5 5 5 5 5 5 6 6 6 5 6 5 6 5 5 5 6 7 5 5 6 5 5 5 6 5 6 5 6 5 6 5 5\n",
      " 5 6 5 5 5 6 6 5 5 6 6 6 5 5 6 6 6 6 5 6 5 6 6 5 5 5 5 5 5 5 6 6 5 6 5 5 6\n",
      " 6 6 5 5 6 5 7 5 6 6 6 5 6 6 6 5 5 5 5 5 6 5 5 6 6 5 5 6 6 5 6 6 5 5 6 6 5\n",
      " 6 5 5 5 6 6 5 5 6 5 5 6 5 6 6 6 6 6 6 6 6 6 5 5 5 7 6 5 5 7 6 6 6 5 6 5 5\n",
      " 5 5 5 6 5 5 6 6 5 6 5 7 6 5 6 5 5 6 5 5 6 6 6 5 5 6 5 6 6 6 5 6 5 7 5 5 5\n",
      " 6 6 5 6 6 6 5 5 5 5 6 5 5 6 7 5 5 6 5 6 5 5 5 6 6 6 6 5 6 5 5 6 5 6 5 6 5\n",
      " 6 6 6 6 5 5 5 5 6 5 5 6 5 5 5 5 5 6 6 6 6 6 6 5 6 5 5 5 5 6 6 5 5 6 6 6 6\n",
      " 6 6 6 5 5 6 6 6 6 6 5 6 6 6 6 5 5 6 5 5 6 5 6 6 6 5 6 5 6 5 6 6 5 6 5 6 6\n",
      " 5 6 6 6 6 6 5 5 5 6 6 6 5 6 5 6 5 6 6 6 6 5 5 6 6 5 5 5 6 5 5 5 6 6 5 5 5\n",
      " 5 5 6 5 5 6 6 5 6 6 5 6 5 5 6 5 6 5 6 5 5 5 5 5 6 5 5 5 5 6 5 5 5 5 5 5 5\n",
      " 6 5 5 6 6 5 6 6 5 6 5 5 5 6 6 5 5 5 6 5 6 6 5 5 6 5 5 5 6 5 6 5 6 6 6 5 6\n",
      " 6 5 5 6 6 6 7 6 6 5 5 6 5 6 6 5 5 5 5 6 5 5 5 5 5 6 6 5 6 7 5 5 6 6 5 5 5\n",
      " 5 5 5 6 6 5 5 5 5 6 5 6 6 6 5 5 6 6 5 6 5 5 5 6 6 5 6 6 6 6 5 6 6 5 6 5]\n"
     ]
    }
   ],
   "source": [
    "ypred_m4 = m4.predict(x_test)\n",
    "print(ypred_m4)"
   ]
  },
  {
   "cell_type": "code",
   "execution_count": 77,
   "id": "64e7e40a",
   "metadata": {},
   "outputs": [
    {
     "name": "stdout",
     "output_type": "stream",
     "text": [
      "[[  0   0   2   0   0   0]\n",
      " [  0   0  11   4   0   0]\n",
      " [  0   0 146  47   1   0]\n",
      " [  0   0  82 106   4   0]\n",
      " [  0   0   8  61   2   0]\n",
      " [  0   0   0   4   2   0]]\n",
      "              precision    recall  f1-score   support\n",
      "\n",
      "           3       0.00      0.00      0.00         2\n",
      "           4       0.00      0.00      0.00        15\n",
      "           5       0.59      0.75      0.66       194\n",
      "           6       0.48      0.55      0.51       192\n",
      "           7       0.22      0.03      0.05        71\n",
      "           8       0.00      0.00      0.00         6\n",
      "\n",
      "    accuracy                           0.53       480\n",
      "   macro avg       0.21      0.22      0.20       480\n",
      "weighted avg       0.46      0.53      0.48       480\n",
      "\n"
     ]
    }
   ],
   "source": [
    "cm_m4 = confusion_matrix(y_test,ypred_m4)\n",
    "print(cm_m4)\n",
    "print(classification_report(y_test,ypred_m4,zero_division=0))"
   ]
  },
  {
   "cell_type": "code",
   "execution_count": null,
   "id": "25d3b649",
   "metadata": {},
   "outputs": [],
   "source": []
  }
 ],
 "metadata": {
  "kernelspec": {
   "display_name": "Python 3 (ipykernel)",
   "language": "python",
   "name": "python3"
  },
  "language_info": {
   "codemirror_mode": {
    "name": "ipython",
    "version": 3
   },
   "file_extension": ".py",
   "mimetype": "text/x-python",
   "name": "python",
   "nbconvert_exporter": "python",
   "pygments_lexer": "ipython3",
   "version": "3.9.7"
  }
 },
 "nbformat": 4,
 "nbformat_minor": 5
}
